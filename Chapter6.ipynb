{
 "cells": [
  {
   "cell_type": "markdown",
   "id": "da7b32fc-3d86-4c63-8c64-404d959e70e3",
   "metadata": {},
   "source": [
    "# Chapter 6: Cartesian Product\n",
    "\n"
   ]
  },
  {
   "cell_type": "code",
   "execution_count": 18,
   "id": "ddf5f414-030f-4731-8e1e-3c4eee432dca",
   "metadata": {},
   "outputs": [],
   "source": [
    "import copy "
   ]
  },
  {
   "cell_type": "code",
   "execution_count": 39,
   "id": "25c93c94-21d9-468c-bba3-bc0cb507242c",
   "metadata": {},
   "outputs": [
    {
     "name": "stdout",
     "output_type": "stream",
     "text": [
      "[['a', 1], ['a', 2], ['a', 3], ['a', 1], ['a', 2], ['a', 3]]\n"
     ]
    }
   ],
   "source": [
    "def prepare_for_copy(points, len_list):\n",
    "    new_points = []\n",
    "    for _ in range(len_list):\n",
    "        new_points += copy.deepcopy(points)\n",
    "    points = new_points\n",
    "    return points\n",
    "\n",
    "print(prepare_for_copy([['a', 1], ['a', 2], ['a',3]], 2))"
   ]
  },
  {
   "cell_type": "code",
   "execution_count": null,
   "id": "de4446a9-4384-4fe5-9770-0f1e73a6b382",
   "metadata": {},
   "outputs": [],
   "source": [
    "def cartesian_product(lists):\n",
    "    #list of lists\n",
    "    import copy\n",
    "    points = [[ ]]\n",
    "    for list__ in lists:\n",
    "        len_list = len(list__)\n",
    "        new_points = []\n",
    "        for index in range(len_list):\n",
    "            points[index].append\n",
    "            points[0]"
   ]
  },
  {
   "cell_type": "code",
   "execution_count": 26,
   "id": "71ed3b42-f485-4c2d-bbb0-9838fa37ef7f",
   "metadata": {},
   "outputs": [
    {
     "data": {
      "text/plain": [
       "[[], [], []]"
      ]
     },
     "execution_count": 26,
     "metadata": {},
     "output_type": "execute_result"
    }
   ],
   "source": [
    "dummy_list = [[]]\n",
    "# dummy_list += 2* copy.deepcopy(dummy_list)\n",
    "# dummy_list "
   ]
  },
  {
   "cell_type": "code",
   "execution_count": 28,
   "id": "885cda2e-3cb6-4d81-b9b7-2b58e5973acc",
   "metadata": {},
   "outputs": [],
   "source": [
    "dummy_list[1].append(2)"
   ]
  },
  {
   "cell_type": "code",
   "execution_count": 29,
   "id": "e1e4a760-c874-422b-a09e-256a5240c60c",
   "metadata": {},
   "outputs": [
    {
     "data": {
      "text/plain": [
       "[[2], [2], [2]]"
      ]
     },
     "execution_count": 29,
     "metadata": {},
     "output_type": "execute_result"
    }
   ],
   "source": [
    "dummy_list"
   ]
  },
  {
   "cell_type": "code",
   "execution_count": 40,
   "id": "acdcfaa8-648d-419a-aad7-fd46abd6ec37",
   "metadata": {},
   "outputs": [
    {
     "name": "stdout",
     "output_type": "stream",
     "text": [
      "[['a'], ['a'], ['a']]\n"
     ]
    }
   ],
   "source": [
    "points = [\n",
    "    ['a']\n",
    "]\n",
    "new_point = []\n",
    "for _ in range(3):\n",
    "    new_point += copy.deepcopy(points)\n",
    "points = new_point\n",
    "print(points)\n"
   ]
  },
  {
   "cell_type": "code",
   "execution_count": null,
   "id": "726bf529-e996-4e5a-b2c9-5b3cbb6f5124",
   "metadata": {},
   "outputs": [],
   "source": [
    "def two_cartesian_product(lists):\n",
    "    points = []\n",
    "    for list_ in lists:\n",
    "        len_list = len(list_)\n",
    "        for index in range(len_list):\n",
    "            points[index].append(list_[index])\n",
    "            "
   ]
  }
 ],
 "metadata": {
  "kernelspec": {
   "display_name": "Python 3 (ipykernel)",
   "language": "python",
   "name": "python3"
  },
  "language_info": {
   "codemirror_mode": {
    "name": "ipython",
    "version": 3
   },
   "file_extension": ".py",
   "mimetype": "text/x-python",
   "name": "python",
   "nbconvert_exporter": "python",
   "pygments_lexer": "ipython3",
   "version": "3.12.1"
  }
 },
 "nbformat": 4,
 "nbformat_minor": 5
}
