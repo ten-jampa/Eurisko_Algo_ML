{
 "cells": [
  {
   "cell_type": "markdown",
   "id": "c5e10aa2-7332-4641-90cd-34b2cfb1c7ab",
   "metadata": {},
   "source": [
    "# Chapter 2: Converting between Binary, Decimal, and Hexadecimal\n"
   ]
  },
  {
   "cell_type": "markdown",
   "id": "ba79cd9e-78a4-4cfd-ae92-3d322cea9eb5",
   "metadata": {},
   "source": [
    "You can count numbers or represent them in differetnt base systems. We use Decimal systems in general that has base 10\n",
    "from 0 to 10 and wraps around to 11,...and so on. But computers may use base 2 (binary) such that 0 -> 0, 1 -> 1, 2 -> 10,3 ->11 and so on. Base-15 uses 16 character from (0-9, A,B,C,D,E,F)\n",
    "\n",
    "## Converting from Base-b to Decimal\n",
    "\n",
    "In general if you have representations $x_n, x_{n-1}, x_{n-2}...x_0$ in base-b, then you can convert it into a decimal system using the following formula\n",
    "$$ \\sum_{i = 0}^{n} x_i b^i $$\n",
    "\n",
    "## Converting from Decimal to Base-b\n",
    "\n",
    "On the other hand, if you have a decimal number and you want to convert it to base-b representation, you repeatedly ccompute the highest power of b that's less than or equal to your decimal number and the subtract off the largest multiple of b^n that's less than or equal to your decimal number"
   ]
  },
  {
   "cell_type": "code",
   "execution_count": 5,
   "id": "875a3474-f069-497b-b126-fa9078eee965",
   "metadata": {},
   "outputs": [
    {
     "name": "stdout",
     "output_type": "stream",
     "text": [
      "3276\n"
     ]
    }
   ],
   "source": [
    "# Function 1:\n",
    "def binary_to_decimal(string):\n",
    "    '''Take a binary representation of a number and\n",
    "return the decimal representation. For example,\n",
    "binary_to_decimal('11010') should return '26' '''\n",
    "    b = 2\n",
    "    n = len(string) - 1 #for '11010', this will be 4\n",
    "    deci = 0\n",
    "    for i in range(len(string)):\n",
    "        xn = int(string[i])\n",
    "        bn = b**(n-i) #if i ==1, then bn = b**(3)\n",
    "        deci += xn*bn\n",
    "    return str(deci)\n",
    "\n",
    "print(binary_to_decimal('110011001100'))\n"
   ]
  },
  {
   "cell_type": "code",
   "execution_count": 9,
   "id": "5e80c464-3c23-4eca-92c6-ea2323744028",
   "metadata": {},
   "outputs": [
    {
     "name": "stdout",
     "output_type": "stream",
     "text": [
      "241791\n"
     ]
    }
   ],
   "source": [
    "# Function 2:\n",
    "def hexadecimal_to_decimal(string):\n",
    "    b = 16\n",
    "    n = len(string) -1\n",
    "    deci = 0\n",
    "    alpha_dict = {'A':10, 'B':11, 'C':12, 'D':13, 'E':14,'F':15}\n",
    "    for i in range(n+1):\n",
    "        try:\n",
    "            xn = int(string[i])\n",
    "        except:\n",
    "            xn = alpha_dict[string[i]] \n",
    "        bn = b**(n-i)\n",
    "        deci += xn*bn\n",
    "    return str(deci)\n",
    "print(hexadecimal_to_decimal('3B07F'))"
   ]
  },
  {
   "cell_type": "code",
   "execution_count": 58,
   "id": "1ce15cc6-bbb4-4a1f-80de-4bb7b7f600b0",
   "metadata": {},
   "outputs": [
    {
     "name": "stdout",
     "output_type": "stream",
     "text": [
      "10011111100001\n"
     ]
    }
   ],
   "source": [
    "# Function 3:\n",
    "def decimal_to_binary(string):\n",
    "    b_rep = ''\n",
    "    base = 2\n",
    "    val = int(string)\n",
    "    #some helper functions as this always repeats\n",
    "    def largest_power(number, base = 2):\n",
    "        n = 0\n",
    "        while base**n <= number:\n",
    "            n += 1\n",
    "        return n-1\n",
    "    power = largest_power(val, base)\n",
    "    \n",
    "    def largest_multiple(number, power, base=2):\n",
    "        multiple = 0\n",
    "        while multiple * base**power <= number:\n",
    "            multiple += 1\n",
    "        return multiple-1\n",
    "        \n",
    "    while power != -1:\n",
    "        multiple = largest_multiple(val, power, base)\n",
    "        #print(multiple)\n",
    "        val -= multiple*base**(power)\n",
    "        power -= 1\n",
    "        b_rep += (str(multiple))\n",
    "        \n",
    "    return b_rep\n",
    "print(decimal_to_binary('10209'))"
   ]
  },
  {
   "cell_type": "code",
   "execution_count": 62,
   "id": "e9712c99-f671-4e6c-9f5f-0e59cb6d48a6",
   "metadata": {},
   "outputs": [
    {
     "name": "stdout",
     "output_type": "stream",
     "text": [
      "3B07F\n"
     ]
    }
   ],
   "source": [
    "# Function 4:\n",
    "def decimal_to_hexadecimal(string):\n",
    "    base = 16\n",
    "    b_rep = ''\n",
    "    val = int(string)\n",
    "    hexa_dict = {10: 'A', 11: \"B\", 12:\"C\", 13: \"D\", 14:\"E\", 15: 'F'}\n",
    "    #some helper functions as this always repeats\n",
    "    def largest_power(number, base = 16):\n",
    "        n = 0\n",
    "        while base**n <= number:\n",
    "            n += 1\n",
    "        return n-1\n",
    "\n",
    "    power = largest_power(val, base)\n",
    "    \n",
    "    def largest_multiple(number, power, base=16):\n",
    "        multiple = 0\n",
    "        while multiple * base**power <= number:\n",
    "            multiple += 1\n",
    "        return multiple-1\n",
    "    while power != -1:\n",
    "        multiple = largest_multiple(val, power, base)\n",
    "        val -= multiple*base**(power)\n",
    "        power -= 1\n",
    "        if multiple >= 9:\n",
    "            try:\n",
    "                b_rep += hexa_dict[multiple]\n",
    "            except:\n",
    "                raise ValueError\n",
    "        else:\n",
    "            b_rep += str(multiple)\n",
    "    return b_rep\n",
    "print(decimal_to_hexadecimal('241791'))"
   ]
  },
  {
   "cell_type": "code",
   "execution_count": 63,
   "id": "2e9fea45-d570-425e-8895-a0329a6a443a",
   "metadata": {},
   "outputs": [
    {
     "name": "stdout",
     "output_type": "stream",
     "text": [
      "C7\n"
     ]
    }
   ],
   "source": [
    "# Function 5\n",
    "def binary_to_hexadecimal(string):\n",
    "    deci = binary_to_decimal(string)\n",
    "    hexa = decimal_to_hexadecimal(deci)\n",
    "    return hexa\n",
    "print(binary_to_hexadecimal('11000111'))"
   ]
  },
  {
   "cell_type": "code",
   "execution_count": 64,
   "id": "7d09edcc-ac61-43fe-b763-504a710b71a0",
   "metadata": {},
   "outputs": [
    {
     "name": "stdout",
     "output_type": "stream",
     "text": [
      "11000111\n"
     ]
    }
   ],
   "source": [
    "# Function 6\n",
    "def hexadecimal_to_binary(string):\n",
    "    deci = hexadecimal_to_decimal(string)\n",
    "    bina = decimal_to_binary(deci)\n",
    "    return bina\n",
    "print(hexadecimal_to_binary('C7'))"
   ]
  },
  {
   "cell_type": "code",
   "execution_count": null,
   "id": "fec99459-2671-4ab8-9be7-6246011e4708",
   "metadata": {},
   "outputs": [],
   "source": []
  }
 ],
 "metadata": {
  "kernelspec": {
   "display_name": "Python 3 (ipykernel)",
   "language": "python",
   "name": "python3"
  },
  "language_info": {
   "codemirror_mode": {
    "name": "ipython",
    "version": 3
   },
   "file_extension": ".py",
   "mimetype": "text/x-python",
   "name": "python",
   "nbconvert_exporter": "python",
   "pygments_lexer": "ipython3",
   "version": "3.12.1"
  }
 },
 "nbformat": 4,
 "nbformat_minor": 5
}
