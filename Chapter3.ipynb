{
 "cells": [
  {
   "cell_type": "markdown",
   "id": "69b2f231-90e2-4eb0-9e62-9ef5663a83c0",
   "metadata": {},
   "source": [
    "# Chapter 3: Recursive Sequences\n",
    "\n",
    "A Recursive sequence is a sequence where each term is a function of the previous terms\n",
    "$$ a_n = f(a_{n-1}, a_{n-2}, ... a_0) $$\n",
    "\n",
    "Implementing a Recursion would have a base case, and then doing implementing with a recursive implementation\n",
    "\n",
    "## Exercises\n",
    "Several different recursive sequences are described below. For each\n",
    "sequence, write a function to generate an array containing first n terms,\n",
    "and then write a separate recursive function to generate the nth term\n"
   ]
  },
  {
   "cell_type": "code",
   "execution_count": 2,
   "id": "c489204c-7eb2-4bc3-b931-5b709326ae18",
   "metadata": {},
   "outputs": [
    {
     "name": "stdout",
     "output_type": "stream",
     "text": [
      "731\n",
      "[5, 11, 29, 83, 245, 731]\n"
     ]
    }
   ],
   "source": [
    "# Exercise 1:\n",
    "'''\n",
    "Starting with 5, generate each term by multiplying the previous\n",
    "term by 3 and subtracting 4\n",
    "'''\n",
    "\n",
    "def direct_recursion(n):\n",
    "    if n == 0:\n",
    "        return 5\n",
    "    else:\n",
    "        prev_term = direct_recursion(n-1)\n",
    "        return 3*prev_term - 4\n",
    "def calc_nth_term(n):\n",
    "    recursion_list = [5]\n",
    "    if n == 0:\n",
    "        return recursion_list\n",
    "    else:\n",
    "        for _ in range(n):\n",
    "            prev_term = recursion_list[-1]\n",
    "            recursion_list.append(3*prev_term - 4)\n",
    "    return recursion_list\n",
    "print(direct_recursion(5))\n",
    "print(calc_nth_term(5))"
   ]
  },
  {
   "cell_type": "code",
   "execution_count": 5,
   "id": "61fb5601-2877-40e8-8389-62e4ef31bf1b",
   "metadata": {},
   "outputs": [
    {
     "name": "stdout",
     "output_type": "stream",
     "text": [
      "34.0\n",
      "[25, 76, 38.0, 19.0, 58.0, 29.0, 88.0, 44.0, 22.0, 11.0, 34.0]\n"
     ]
    }
   ],
   "source": [
    "# Exercise 2:\n",
    "'''\n",
    "Starting with 25, generate each term by taking half of the\n",
    "previous term if it’s even, or multiplying by 3 and adding 1 if\n",
    "it’s odd. (This is an instance of a Collatz sequence.\n",
    "'''\n",
    "def nth_collatz_sequence(n):\n",
    "    if n == 0:\n",
    "        return 25\n",
    "    else:\n",
    "        prev = nth_collatz_sequence(n-1)\n",
    "        if prev%2 == 0: #even\n",
    "            return prev/2\n",
    "        else: #odd\n",
    "            return 3*prev + 1\n",
    "\n",
    "def calc_collatz_sequence(n):\n",
    "    sequence = [25]\n",
    "    if n == 0:\n",
    "        return sequence\n",
    "    else:\n",
    "        for _ in range(n):\n",
    "            prev = sequence[-1]\n",
    "            if prev%2 == 0: #even\n",
    "                sequence.append(prev/2)\n",
    "            else:\n",
    "                sequence.append(3*prev + 1)\n",
    "        return sequence\n",
    "print(nth_collatz_sequence(10))\n",
    "print(calc_collatz_sequence(10))"
   ]
  },
  {
   "cell_type": "code",
   "execution_count": 16,
   "id": "5ddcb336-0d1b-4597-b314-c170956f6e6f",
   "metadata": {},
   "outputs": [
    {
     "name": "stdout",
     "output_type": "stream",
     "text": [
      "514229\n",
      "1.0\n",
      "2.0\n",
      "1.5\n",
      "1.6666666666666667\n",
      "1.6\n",
      "1.625\n",
      "1.6153846153846154\n",
      "1.619047619047619\n",
      "1.6176470588235294\n",
      "1.6181818181818182\n",
      "1.6179775280898876\n",
      "1.6180555555555556\n",
      "1.6180257510729614\n",
      "1.6180371352785146\n",
      "1.618032786885246\n",
      "1.618034447821682\n",
      "1.6180338134001253\n",
      "1.618034055727554\n",
      "1.6180339631667064\n",
      "1.6180339985218033\n",
      "1.618033985017358\n",
      "1.6180339901755971\n",
      "1.618033988205325\n",
      "1.618033988957902\n",
      "1.6180339886704431\n",
      "1.6180339887802426\n",
      "1.618033988738303\n",
      "1.6180339887543225\n"
     ]
    }
   ],
   "source": [
    "# Exercise 3:\n",
    "'''\n",
    "Starting with 0, 1, generate each term by adding the previous\n",
    "two terms. (This is the famous Fibonacci sequence.)\n",
    "'''\n",
    "def nth_fibonacci(n):\n",
    "    if n == 1:\n",
    "        return 0\n",
    "    elif n == 2:\n",
    "        return 1\n",
    "    else:\n",
    "        return nth_fibonacci(n-1) + nth_fibonacci(n-2)\n",
    "\n",
    "def calc_fibo_seq(n):\n",
    "    sequence = [0,1]\n",
    "    if n == 1:\n",
    "        return sequence[0]\n",
    "    elif n == 2:\n",
    "        return sequence\n",
    "    else:\n",
    "        for _ in range(3,n+1):\n",
    "            next_fib = sequence[-1] + sequence[-2]\n",
    "            sequence.append(next_fib)\n",
    "    return sequence\n",
    "\n",
    "print(nth_fibonacci(30))\n",
    "seq = calc_fibo_seq(30)\n",
    "\n",
    "for i in range(1,29):\n",
    "    print(seq[i+1]/seq[i]) #golden ratio"
   ]
  },
  {
   "cell_type": "code",
   "execution_count": 22,
   "id": "69f6c0b6-a2f1-4b68-817e-9f6ac4e8fb56",
   "metadata": {},
   "outputs": [
    {
     "name": "stdout",
     "output_type": "stream",
     "text": [
      "-1944\n",
      "[2, -3, -6, 18, -108, -1944, 209952, -408146688, -85691213438976, 34974584955819144511488]\n"
     ]
    }
   ],
   "source": [
    "# Exercise 4:\n",
    "\n",
    "def second_recursion(n):\n",
    "    if n == 1: #start from 2\n",
    "        return 2\n",
    "    elif n == 2:\n",
    "        return -3\n",
    "    else:\n",
    "        prev = second_recursion(n-1)\n",
    "        prev_prev = second_recursion(n-2)\n",
    "        return prev*prev_prev\n",
    "def nth_second_recursion(n):\n",
    "    sequence = [2,-3]\n",
    "    if n <= 2:\n",
    "        return sequence\n",
    "    else:\n",
    "        for _ in range(2, n):\n",
    "            next__ = sequence[-1] * sequence[-2]\n",
    "            sequence.append(next__)\n",
    "    return sequence\n",
    "\n",
    "print(second_recursion(6))\n",
    "print(nth_second_recursion(10))"
   ]
  },
  {
   "cell_type": "code",
   "execution_count": null,
   "id": "cc0ea0bc-6457-438d-a203-8697c80bf778",
   "metadata": {},
   "outputs": [],
   "source": []
  }
 ],
 "metadata": {
  "kernelspec": {
   "display_name": "Python 3 (ipykernel)",
   "language": "python",
   "name": "python3"
  },
  "language_info": {
   "codemirror_mode": {
    "name": "ipython",
    "version": 3
   },
   "file_extension": ".py",
   "mimetype": "text/x-python",
   "name": "python",
   "nbconvert_exporter": "python",
   "pygments_lexer": "ipython3",
   "version": "3.12.1"
  }
 },
 "nbformat": 4,
 "nbformat_minor": 5
}
