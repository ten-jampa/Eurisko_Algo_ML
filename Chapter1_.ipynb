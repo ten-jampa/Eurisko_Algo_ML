{
 "cells": [
  {
   "cell_type": "markdown",
   "id": "34aab1bf-5f0d-46c2-9234-1322e7fd3a4b",
   "metadata": {},
   "source": [
    "# Chapter 1 (Introduction) Notes and Exercises from Justin Textbook\n",
    "\n"
   ]
  },
  {
   "cell_type": "code",
   "execution_count": 5,
   "id": "3239376f-7f12-4237-b25f-af1ae774db3f",
   "metadata": {},
   "outputs": [],
   "source": [
    "# 1. Function 1\n",
    "def check_if_symmetric(string):\n",
    "    string = string.lower()\n",
    "    rev_string = ''\n",
    "    for s in string:\n",
    "        rev_string = s + rev_string\n",
    "    return rev_string == string\n",
    "    #may not be the most optimised algo\n",
    "    "
   ]
  },
  {
   "cell_type": "code",
   "execution_count": 16,
   "id": "e9a8e6c4-7497-433e-8268-9e253e8fefc4",
   "metadata": {},
   "outputs": [
    {
     "name": "stdout",
     "output_type": "stream",
     "text": [
      "[1, 0, 3, 1, 20]\n"
     ]
    }
   ],
   "source": [
    "# 2. Function 2\n",
    "def convert_to_numbers(string):\n",
    "    alphas = ' abcdefghijklmnopqrstuvwxyz'\n",
    "    alpha_list = list(alphas)\n",
    "    alpha_to_num_dict = {}\n",
    "    for val, key in enumerate(alpha_list):\n",
    "        alpha_to_num_dict[key] = val\n",
    "    num_vec = []\n",
    "    for s in string:\n",
    "        num_vec.append(alpha_to_num_dict[s])\n",
    "    return num_vec\n",
    "print(convert_to_numbers('a cat'))\n",
    "    "
   ]
  },
  {
   "cell_type": "code",
   "execution_count": 27,
   "id": "9c8baf74-77df-4e98-866d-94c5573ffb23",
   "metadata": {},
   "outputs": [
    {
     "name": "stdout",
     "output_type": "stream",
     "text": [
      "a cat\n"
     ]
    }
   ],
   "source": [
    "# 3. Function 3\n",
    "def convert_to_letters(num_list):\n",
    "    alphas = ' abcdefghijklmnopqrstuvwxyz'\n",
    "    alpha_list = list(alphas)\n",
    "    num_to_alpha_dict = {}\n",
    "    for key, val in enumerate(alpha_list):\n",
    "        num_to_alpha_dict[key] = val\n",
    "    alpha_vec = ''\n",
    "    for num in num_list:\n",
    "        alpha_vec += num_to_alpha_dict[num]\n",
    "    return alpha_vec\n",
    "print(convert_to_letters([1, 0, 3, 1, 20]))"
   ]
  },
  {
   "cell_type": "code",
   "execution_count": 33,
   "id": "601963a2-bcb4-4a09-935c-5bf2b6f47638",
   "metadata": {},
   "outputs": [
    {
     "name": "stdout",
     "output_type": "stream",
     "text": [
      "[1, 2, 3]\n"
     ]
    }
   ],
   "source": [
    "# 4. Function 4\n",
    "def get_intersection(array1, array2):\n",
    "    out_array = []\n",
    "    for n in array1:\n",
    "        if n in out_array:\n",
    "            continue\n",
    "        elif n in array2:\n",
    "            out_array.append(n)\n",
    "        else:\n",
    "            continue\n",
    "    return out_array\n",
    "print(get_intersection([1,2,3], [2,2,3,1,3,3,5]))\n"
   ]
  },
  {
   "cell_type": "code",
   "execution_count": 35,
   "id": "9b4cb2ed-b484-4b30-9374-1ceee97048ba",
   "metadata": {},
   "outputs": [
    {
     "name": "stdout",
     "output_type": "stream",
     "text": [
      "[1, 2, 3, '', 5]\n"
     ]
    }
   ],
   "source": [
    "# 5. Function 5\n",
    "def get_union(array1, array2):\n",
    "    out_array = []\n",
    "    union = array1 + array2\n",
    "    for n in union:\n",
    "        if n in out_array:\n",
    "            continue\n",
    "        else:\n",
    "            out_array.append(n)\n",
    "    return out_array\n",
    "print(get_union([1,2,3], [2,2,3,1,3,3,'',5]))"
   ]
  },
  {
   "cell_type": "code",
   "execution_count": 46,
   "id": "fd074451-461e-4ea6-a977-3439bee513d4",
   "metadata": {},
   "outputs": [
    {
     "name": "stdout",
     "output_type": "stream",
     "text": [
      "True\n"
     ]
    }
   ],
   "source": [
    "# 6. Function 6\n",
    "def count_characters(string):\n",
    "    count_dict = {}\n",
    "    for char in string.lower():\n",
    "        if char not in count_dict:\n",
    "            count_dict[char] = 1\n",
    "        else:\n",
    "            count_dict[char] += 1\n",
    "    return count_dict\n",
    "print(count_characters('A cat!!!') == { 'a': 2, 'c': 1, 't': 1,\n",
    "' ': 1, '!': 3 })\n",
    "    "
   ]
  },
  {
   "cell_type": "code",
   "execution_count": 49,
   "id": "64ca507d-fc2b-447d-a536-dcfdb54cc357",
   "metadata": {},
   "outputs": [
    {
     "name": "stdout",
     "output_type": "stream",
     "text": [
      "True\n"
     ]
    }
   ],
   "source": [
    "# 7. Function 7\n",
    "def is_prime(N):\n",
    "    #let the external function be the wrapper\n",
    "    #naively N is prime if there does not exist an n in the set of [2, floor(N/2)] which divides N\n",
    "    for n in range(2, N//2):\n",
    "        if N%n == 0:\n",
    "            return False\n",
    "    return True\n",
    "    ##Alternatively we might be able to build a dynamic programming solutions that keeps the memo of prime numbers, \n",
    "    #but I am not sure if that would be an optimal solution, it would be an optimal solution if I had to build a prime number\n",
    "    #list in the range of (2,N)\n",
    "print(is_prime(127))"
   ]
  },
  {
   "cell_type": "code",
   "execution_count": 47,
   "id": "d990fea2-bfb4-4fc8-9ce7-42887bfdd68e",
   "metadata": {},
   "outputs": [
    {
     "data": {
      "text/plain": [
       "8.5"
      ]
     },
     "execution_count": 47,
     "metadata": {},
     "output_type": "execute_result"
    }
   ],
   "source": []
  },
  {
   "cell_type": "code",
   "execution_count": 48,
   "id": "6a8fe39f-5cfa-4ae3-bee9-016b4d909968",
   "metadata": {},
   "outputs": [
    {
     "data": {
      "text/plain": [
       "8"
      ]
     },
     "execution_count": 48,
     "metadata": {},
     "output_type": "execute_result"
    }
   ],
   "source": [
    "17//2"
   ]
  },
  {
   "cell_type": "code",
   "execution_count": null,
   "id": "2d225596-c1a4-4a05-8047-9db7a00528a5",
   "metadata": {},
   "outputs": [],
   "source": [
    "17"
   ]
  }
 ],
 "metadata": {
  "kernelspec": {
   "display_name": "Python 3 (ipykernel)",
   "language": "python",
   "name": "python3"
  },
  "language_info": {
   "codemirror_mode": {
    "name": "ipython",
    "version": 3
   },
   "file_extension": ".py",
   "mimetype": "text/x-python",
   "name": "python",
   "nbconvert_exporter": "python",
   "pygments_lexer": "ipython3",
   "version": "3.12.1"
  }
 },
 "nbformat": 4,
 "nbformat_minor": 5
}
